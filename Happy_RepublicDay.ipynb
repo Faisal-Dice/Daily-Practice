{
  "nbformat": 4,
  "nbformat_minor": 0,
  "metadata": {
    "colab": {
      "provenance": [],
      "authorship_tag": "ABX9TyODMDczmLSBsXWhP/uQmC4h",
      "include_colab_link": true
    },
    "kernelspec": {
      "name": "python3",
      "display_name": "Python 3"
    },
    "language_info": {
      "name": "python"
    }
  },
  "cells": [
    {
      "cell_type": "markdown",
      "metadata": {
        "id": "view-in-github",
        "colab_type": "text"
      },
      "source": [
        "<a href=\"https://colab.research.google.com/github/Faisal-Dice/Daily-Practice/blob/main/Happy_RepublicDay.ipynb\" target=\"_parent\"><img src=\"https://colab.research.google.com/assets/colab-badge.svg\" alt=\"Open In Colab\"/></a>"
      ]
    },
    {
      "cell_type": "code",
      "execution_count": 14,
      "metadata": {
        "colab": {
          "base_uri": "https://localhost:8080/",
          "height": 430
        },
        "id": "WMbevFdf6YmD",
        "outputId": "34d02ed8-b525-4952-9fca-e4c6b08df9ed"
      },
      "outputs": [
        {
          "output_type": "display_data",
          "data": {
            "text/plain": [
              "<Figure size 640x480 with 1 Axes>"
            ],
            "image/png": "[encoded data removed]"
          },
          "metadata": {}
        }
      ],
      "source": [
        "# Happy Republic Day to All From Faisal Hussian\n",
        "\n",
        "import numpy as np\n",
        "\n",
        "import matplotlib.pyplot as py\n",
        "\n",
        "import matplotlib.patches as patch\n",
        "\n",
        "#Plotting the tri colours in national flag by Faisal Hussain\n",
        "\n",
        "a = patch. Rectangle ((0,1), width=10, height=3, facecolor='#138808', edgecolor='red')\n",
        "\n",
        "b = patch. Rectangle ((0,3), width=10, height=3, facecolor='#ffffff', edgecolor=\"red\")\n",
        "\n",
        "\n",
        "\n",
        "c = patch. Rectangle ((0,5), width=10, height=3, facecolor='#FF6103', edgecolor='red')\n",
        "m,n = py.subplots()\n",
        "\n",
        "n.add_patch(a)\n",
        "\n",
        "n.add_patch(b)\n",
        "\n",
        "n.add_patch(c)\n",
        "\n",
        "# for Ashok Chakra\n",
        "\n",
        "radius=0.8\n",
        "cir_canter = 5.5\n",
        "py.plot(cir_canter,4, marker = 'o', markerfacecolor = '#000080', markersize = 9.5)\n",
        "\n",
        "chakra = py.Circle ((cir_canter, 4), radius, color='#000080', fill=False, linewidth=7)\n",
        "\n",
        "n.add_artist(chakra)\n",
        "\n",
        "#24 spokes in Ashok Chakra\n",
        "\n",
        "for i in range(0,24):\n",
        "  p = cir_canter+ radius/2*np.cos(np.pi*i/9+ np.pi/48)\n",
        "\n",
        "  q = cir_canter+ radius/2*np.cos(np.pi*i/9 -np.pi/48)\n",
        "\n",
        "  r = 4 + radius/2* np.sin(np.pi*i/9+ np.pi/48)\n",
        "\n",
        "  s=4+ radius/2*np.sin(np.pi*i/9 -np.pi/48)\n",
        "\n",
        "  t = cir_canter+ radius*np.cos(np.pi*i/9)\n",
        "\n",
        "  u=4+ radius*np.sin(np.pi*i/9)\n",
        "\n",
        "  n.add_patch(patch.Polygon ([[5.5,4], [p,r], [t,u], [q,s]], fill=True, closed=True, color='#000080'))\n",
        "\n",
        "\n",
        "\n",
        "\n",
        "py.axis('equal')\n",
        "\n",
        "py.show()"
      ]
    },
    {
      "cell_type": "code",
      "source": [],
      "metadata": {
        "id": "VSD2dY0661cA"
      },
      "execution_count": null,
      "outputs": []
    }
  ]
}