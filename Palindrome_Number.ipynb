{
  "nbformat": 4,
  "nbformat_minor": 0,
  "metadata": {
    "colab": {
      "provenance": [],
      "authorship_tag": "ABX9TyPLvKdswM1esw2KYdVRmLlY",
      "include_colab_link": true
    },
    "kernelspec": {
      "name": "python3",
      "display_name": "Python 3"
    },
    "language_info": {
      "name": "python"
    }
  },
  "cells": [
    {
      "cell_type": "markdown",
      "metadata": {
        "id": "view-in-github",
        "colab_type": "text"
      },
      "source": [
        "<a href=\"https://colab.research.google.com/github/Faisal-Dice/Daily-Practice/blob/main/Palindrome_Number.ipynb\" target=\"_parent\"><img src=\"https://colab.research.google.com/assets/colab-badge.svg\" alt=\"Open In Colab\"/></a>"
      ]
    },
    {
      "cell_type": "code",
      "execution_count": 1,
      "metadata": {
        "colab": {
          "base_uri": "https://localhost:8080/"
        },
        "id": "4IuSZlqRnGDq",
        "outputId": "c3f42011-5157-4223-98b4-8dfc8b72feef"
      },
      "outputs": [
        {
          "output_type": "stream",
          "name": "stdout",
          "text": [
            "Enter a Number: 121\n",
            "121 is a Palindrome\n"
          ]
        }
      ],
      "source": [
        "num = input(\"Enter a Number: \")\n",
        "\n",
        "if num == num[::-1]:\n",
        "  print(f\"{num} is a Palindrome\")\n",
        "else:\n",
        "  print(f\"{num} is not a Palindrome\")\n",
        "\n",
        "#Code with Faisal Hussain"
      ]
    },
    {
      "cell_type": "code",
      "source": [],
      "metadata": {
        "id": "QViCMDZXn9NS"
      },
      "execution_count": null,
      "outputs": []
    }
  ]
}